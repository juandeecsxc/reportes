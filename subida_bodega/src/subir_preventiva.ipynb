{
 "cells": [
  {
   "cell_type": "code",
   "execution_count": 1,
   "metadata": {},
   "outputs": [],
   "source": [
    "import pandas as pd"
   ]
  },
  {
   "cell_type": "code",
   "execution_count": 2,
   "metadata": {},
   "outputs": [],
   "source": [
    "import impala_con.subida_bodega as sb"
   ]
  },
  {
   "cell_type": "code",
   "execution_count": null,
   "metadata": {},
   "outputs": [
    {
     "data": {
      "text/html": [
       "<div>\n",
       "<style scoped>\n",
       "    .dataframe tbody tr th:only-of-type {\n",
       "        vertical-align: middle;\n",
       "    }\n",
       "\n",
       "    .dataframe tbody tr th {\n",
       "        vertical-align: top;\n",
       "    }\n",
       "\n",
       "    .dataframe thead th {\n",
       "        text-align: right;\n",
       "    }\n",
       "</style>\n",
       "<table border=\"1\" class=\"dataframe\">\n",
       "  <thead>\n",
       "    <tr style=\"text-align: right;\">\n",
       "      <th></th>\n",
       "      <th>fuente</th>\n",
       "      <th>Producto 2</th>\n",
       "      <th>mes</th>\n",
       "      <th>Agru. Ciclo</th>\n",
       "      <th>Fecha Seguimiento</th>\n",
       "      <th>Cuentas Norm</th>\n",
       "      <th>Saldo Norm</th>\n",
       "      <th>Cuentas Pendientes</th>\n",
       "      <th>Saldo Pendiente</th>\n",
       "      <th>Momentos</th>\n",
       "      <th>Saldo Norm x Dia</th>\n",
       "      <th>Unnamed: 11</th>\n",
       "    </tr>\n",
       "  </thead>\n",
       "  <tbody>\n",
       "    <tr>\n",
       "      <th>39513</th>\n",
       "      <td>Credicompras alkosto</td>\n",
       "      <td>Credicompras alkosto</td>\n",
       "      <td>202504</td>\n",
       "      <td>CICLO 2</td>\n",
       "      <td>20250329</td>\n",
       "      <td>53</td>\n",
       "      <td>195737887.0</td>\n",
       "      <td>2606</td>\n",
       "      <td>1.370592e+10</td>\n",
       "      <td>5</td>\n",
       "      <td>77352647</td>\n",
       "      <td>NaN</td>\n",
       "    </tr>\n",
       "    <tr>\n",
       "      <th>39514</th>\n",
       "      <td>Credicompras alkosto</td>\n",
       "      <td>Credicompras alkosto</td>\n",
       "      <td>202504</td>\n",
       "      <td>CICLO 2</td>\n",
       "      <td>20250330</td>\n",
       "      <td>62</td>\n",
       "      <td>229130141.0</td>\n",
       "      <td>2597</td>\n",
       "      <td>1.367252e+10</td>\n",
       "      <td>6</td>\n",
       "      <td>33392254</td>\n",
       "      <td>NaN</td>\n",
       "    </tr>\n",
       "    <tr>\n",
       "      <th>39515</th>\n",
       "      <td>Credicompras alkosto</td>\n",
       "      <td>Credicompras alkosto</td>\n",
       "      <td>202504</td>\n",
       "      <td>CICLO 2</td>\n",
       "      <td>20250331</td>\n",
       "      <td>84</td>\n",
       "      <td>336479147.0</td>\n",
       "      <td>2575</td>\n",
       "      <td>1.356518e+10</td>\n",
       "      <td>7</td>\n",
       "      <td>107349006</td>\n",
       "      <td>NaN</td>\n",
       "    </tr>\n",
       "    <tr>\n",
       "      <th>39516</th>\n",
       "      <td>Credicompras alkosto</td>\n",
       "      <td>Credicompras alkosto</td>\n",
       "      <td>202504</td>\n",
       "      <td>CICLO 2</td>\n",
       "      <td>20250401</td>\n",
       "      <td>106</td>\n",
       "      <td>479840855.0</td>\n",
       "      <td>2553</td>\n",
       "      <td>1.342181e+10</td>\n",
       "      <td>8</td>\n",
       "      <td>143361708</td>\n",
       "      <td>NaN</td>\n",
       "    </tr>\n",
       "    <tr>\n",
       "      <th>39517</th>\n",
       "      <td>Credicompras alkosto</td>\n",
       "      <td>Credicompras alkosto</td>\n",
       "      <td>202504</td>\n",
       "      <td>CICLO 2</td>\n",
       "      <td>20250402</td>\n",
       "      <td>131</td>\n",
       "      <td>620008368.0</td>\n",
       "      <td>2528</td>\n",
       "      <td>1.328165e+10</td>\n",
       "      <td>9</td>\n",
       "      <td>140167513</td>\n",
       "      <td>NaN</td>\n",
       "    </tr>\n",
       "  </tbody>\n",
       "</table>\n",
       "</div>"
      ],
      "text/plain": [
       "                     fuente            Producto 2     mes Agru. Ciclo  \\\n",
       "39513  Credicompras alkosto  Credicompras alkosto  202504     CICLO 2   \n",
       "39514  Credicompras alkosto  Credicompras alkosto  202504     CICLO 2   \n",
       "39515  Credicompras alkosto  Credicompras alkosto  202504     CICLO 2   \n",
       "39516  Credicompras alkosto  Credicompras alkosto  202504     CICLO 2   \n",
       "39517  Credicompras alkosto  Credicompras alkosto  202504     CICLO 2   \n",
       "\n",
       "       Fecha Seguimiento  Cuentas Norm   Saldo Norm  Cuentas Pendientes   \\\n",
       "39513           20250329            53  195737887.0                 2606   \n",
       "39514           20250330            62  229130141.0                 2597   \n",
       "39515           20250331            84  336479147.0                 2575   \n",
       "39516           20250401           106  479840855.0                 2553   \n",
       "39517           20250402           131  620008368.0                 2528   \n",
       "\n",
       "       Saldo Pendiente  Momentos  Saldo Norm x Dia  Unnamed: 11  \n",
       "39513     1.370592e+10         5          77352647          NaN  \n",
       "39514     1.367252e+10         6          33392254          NaN  \n",
       "39515     1.356518e+10         7         107349006          NaN  \n",
       "39516     1.342181e+10         8         143361708          NaN  \n",
       "39517     1.328165e+10         9         140167513          NaN  "
      ]
     },
     "execution_count": 2,
     "metadata": {},
     "output_type": "execute_result"
    }
   ],
   "source": [
    "df= pd.read_csv(r'z:\\00. INFORMES\\BI\\Base_Preventiva_Bodega.csv')\n",
    "df.tail()"
   ]
  },
  {
   "cell_type": "code",
   "execution_count": 11,
   "metadata": {},
   "outputs": [
    {
     "ename": "NameError",
     "evalue": "name 'df' is not defined",
     "output_type": "error",
     "traceback": [
      "\u001b[31m---------------------------------------------------------------------------\u001b[39m",
      "\u001b[31mNameError\u001b[39m                                 Traceback (most recent call last)",
      "\u001b[36mCell\u001b[39m\u001b[36m \u001b[39m\u001b[32mIn[11]\u001b[39m\u001b[32m, line 3\u001b[39m\n\u001b[32m      1\u001b[39m \u001b[38;5;28;01mimport\u001b[39;00m\u001b[38;5;250m \u001b[39m\u001b[34;01mimpala_con\u001b[39;00m\u001b[34;01m.\u001b[39;00m\u001b[34;01msubida_bodega\u001b[39;00m\u001b[38;5;250m \u001b[39m\u001b[38;5;28;01mas\u001b[39;00m\u001b[38;5;250m \u001b[39m\u001b[34;01msb\u001b[39;00m\n\u001b[32m----> \u001b[39m\u001b[32m3\u001b[39m sb.subir_datos_datalake(\u001b[43mdf\u001b[49m)\n\u001b[32m      4\u001b[39m impala = sb.impala(\u001b[33m\"\u001b[39m\u001b[33mDSN=impalanube\u001b[39m\u001b[33m\"\u001b[39m)\n",
      "\u001b[31mNameError\u001b[39m: name 'df' is not defined"
     ]
    }
   ],
   "source": [
    "import impala_con.subida_bodega as sb\n",
    "\n",
    "sb.subir_datos_datalake(df)\n",
    "impala = sb.impala(\"DSN=impalanube\")"
   ]
  },
  {
   "cell_type": "code",
   "execution_count": 8,
   "metadata": {},
   "outputs": [
    {
     "ename": "ImportError",
     "evalue": "cannot import name 'impala' from 'impala_con.subida_bodega' (c:\\Users\\cob1jba\\Desktop\\subida_bodega 4\\subida_bodega\\src\\impala_con\\subida_bodega.py)",
     "output_type": "error",
     "traceback": [
      "\u001b[31m---------------------------------------------------------------------------\u001b[39m",
      "\u001b[31mImportError\u001b[39m                               Traceback (most recent call last)",
      "\u001b[36mCell\u001b[39m\u001b[36m \u001b[39m\u001b[32mIn[8]\u001b[39m\u001b[32m, line 1\u001b[39m\n\u001b[32m----> \u001b[39m\u001b[32m1\u001b[39m \u001b[38;5;28;01mfrom\u001b[39;00m\u001b[38;5;250m \u001b[39m\u001b[34;01mimpala_con\u001b[39;00m\u001b[34;01m.\u001b[39;00m\u001b[34;01msubida_bodega\u001b[39;00m\u001b[38;5;250m \u001b[39m\u001b[38;5;28;01mimport\u001b[39;00m subir_datos_datalake, impala\n",
      "\u001b[31mImportError\u001b[39m: cannot import name 'impala' from 'impala_con.subida_bodega' (c:\\Users\\cob1jba\\Desktop\\subida_bodega 4\\subida_bodega\\src\\impala_con\\subida_bodega.py)"
     ]
    }
   ],
   "source": [
    "from impala_con.subida_bodega import subir_datos_datalake, impala"
   ]
  },
  {
   "cell_type": "code",
   "execution_count": 4,
   "metadata": {},
   "outputs": [
    {
     "ename": "ImportError",
     "evalue": "cannot import name 'subir_datos_datalake' from 'impala_con' (unknown location)",
     "output_type": "error",
     "traceback": [
      "\u001b[31m---------------------------------------------------------------------------\u001b[39m",
      "\u001b[31mImportError\u001b[39m                               Traceback (most recent call last)",
      "\u001b[36mCell\u001b[39m\u001b[36m \u001b[39m\u001b[32mIn[4]\u001b[39m\u001b[32m, line 1\u001b[39m\n\u001b[32m----> \u001b[39m\u001b[32m1\u001b[39m \u001b[38;5;28;01mfrom\u001b[39;00m\u001b[38;5;250m \u001b[39m\u001b[34;01mimpala_con\u001b[39;00m\u001b[38;5;250m \u001b[39m\u001b[38;5;28;01mimport\u001b[39;00m subir_datos_datalake\n\u001b[32m      2\u001b[39m \u001b[38;5;28;01mfrom\u001b[39;00m\u001b[38;5;250m \u001b[39m\u001b[34;01mimpala_con\u001b[39;00m\u001b[38;5;250m \u001b[39m\u001b[38;5;28;01mimport\u001b[39;00m Impala\n",
      "\u001b[31mImportError\u001b[39m: cannot import name 'subir_datos_datalake' from 'impala_con' (unknown location)"
     ]
    }
   ],
   "source": [
    "from impala_con import subir_datos_datalake\n",
    "from impala_con import Impala"
   ]
  },
  {
   "cell_type": "code",
   "execution_count": 6,
   "metadata": {},
   "outputs": [
    {
     "ename": "NameError",
     "evalue": "name 'Impala' is not defined",
     "output_type": "error",
     "traceback": [
      "\u001b[31m---------------------------------------------------------------------------\u001b[39m",
      "\u001b[31mNameError\u001b[39m                                 Traceback (most recent call last)",
      "\u001b[36mCell\u001b[39m\u001b[36m \u001b[39m\u001b[32mIn[6]\u001b[39m\u001b[32m, line 1\u001b[39m\n\u001b[32m----> \u001b[39m\u001b[32m1\u001b[39m impala = \u001b[43mImpala\u001b[49m(\u001b[33m\"\u001b[39m\u001b[33mDSN=impalanube\u001b[39m\u001b[33m\"\u001b[39m) \u001b[38;5;66;03m# Colocar como lo tenga configurado en su máquina\u001b[39;00m\n",
      "\u001b[31mNameError\u001b[39m: name 'Impala' is not defined"
     ]
    }
   ],
   "source": [
    "impala = Impala(\"DSN=impalanube\") # Colocar como lo tenga configurado en su máquina"
   ]
  },
  {
   "cell_type": "code",
   "execution_count": 7,
   "metadata": {},
   "outputs": [
    {
     "name": "stdout",
     "output_type": "stream",
     "text": [
      "Corriendo query SQL...\n",
      "Query ejecutado con éxito!\n"
     ]
    }
   ],
   "source": [
    "impala.run_sql_query(\"TRUNCATE TABLE IF EXISTS te_respaldamos.cob1jlu_base_preventiva\")"
   ]
  },
  {
   "cell_type": "code",
   "execution_count": 8,
   "metadata": {},
   "outputs": [
    {
     "name": "stdout",
     "output_type": "stream",
     "text": [
      "\n",
      "Empieza carga de DataFrame hacia la tabla te_respaldamos.cob1jlu_base_preventiva...\n",
      "\n",
      "Se realizarán envíos de 3 lotes de size 13164...\n",
      "\n",
      "39490 registros cargados de 39490...\n",
      "\n",
      "Tiempo tomado para llevar 39490 registros a bodega fue: 0.70 minutos\n",
      "\n",
      "Ejecutando queries COMPUTE, INVALIDATE y REFRESH sobre la tabla...\n",
      "\n",
      "Proceso terminado!\n"
     ]
    }
   ],
   "source": [
    "subir_datos_datalake(\n",
    "    dsn = \"DSN=impalanube\",\n",
    "    csv_path_or_dataframe = data_preventiva,\n",
    "    table_name = \"te_respaldamos.cob1jlu_base_preventiva\",\n",
    "    batch_size = 10000 # se puede obviar, por defecto es 10000\n",
    ")"
   ]
  }
 ],
 "metadata": {
  "kernelspec": {
   "display_name": "base",
   "language": "python",
   "name": "python3"
  },
  "language_info": {
   "codemirror_mode": {
    "name": "ipython",
    "version": 3
   },
   "file_extension": ".py",
   "mimetype": "text/x-python",
   "name": "python",
   "nbconvert_exporter": "python",
   "pygments_lexer": "ipython3",
   "version": "3.12.4"
  }
 },
 "nbformat": 4,
 "nbformat_minor": 2
}
