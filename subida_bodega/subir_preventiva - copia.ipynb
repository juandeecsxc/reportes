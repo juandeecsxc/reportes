{
 "cells": [
  {
   "cell_type": "code",
   "execution_count": 1,
   "metadata": {},
   "outputs": [],
   "source": [
    "import pandas as pd"
   ]
  },
  {
   "cell_type": "code",
   "execution_count": 4,
   "metadata": {},
   "outputs": [
    {
     "data": {
      "text/html": [
       "<div>\n",
       "<style scoped>\n",
       "    .dataframe tbody tr th:only-of-type {\n",
       "        vertical-align: middle;\n",
       "    }\n",
       "\n",
       "    .dataframe tbody tr th {\n",
       "        vertical-align: top;\n",
       "    }\n",
       "\n",
       "    .dataframe thead th {\n",
       "        text-align: right;\n",
       "    }\n",
       "</style>\n",
       "<table border=\"1\" class=\"dataframe\">\n",
       "  <thead>\n",
       "    <tr style=\"text-align: right;\">\n",
       "      <th></th>\n",
       "      <th>fuente</th>\n",
       "      <th>Producto 2</th>\n",
       "      <th>mes</th>\n",
       "      <th>Agru. Ciclo</th>\n",
       "      <th>Fecha Seguimiento</th>\n",
       "      <th>Cuentas Norm</th>\n",
       "      <th>Saldo Norm</th>\n",
       "      <th>Cuentas Pendientes</th>\n",
       "      <th>Saldo Pendiente</th>\n",
       "      <th>Momentos</th>\n",
       "      <th>Saldo Norm x Dia</th>\n",
       "    </tr>\n",
       "  </thead>\n",
       "  <tbody>\n",
       "    <tr>\n",
       "      <th>39485</th>\n",
       "      <td>Credicompras alkosto</td>\n",
       "      <td>Credicompras alkosto</td>\n",
       "      <td>202504</td>\n",
       "      <td>CICLO 2</td>\n",
       "      <td>20250328</td>\n",
       "      <td>42</td>\n",
       "      <td>118385240.0</td>\n",
       "      <td>2617</td>\n",
       "      <td>1.378327e+10</td>\n",
       "      <td>4</td>\n",
       "      <td>47446515.0</td>\n",
       "    </tr>\n",
       "    <tr>\n",
       "      <th>39486</th>\n",
       "      <td>Credicompras alkosto</td>\n",
       "      <td>Credicompras alkosto</td>\n",
       "      <td>202504</td>\n",
       "      <td>CICLO 2</td>\n",
       "      <td>20250329</td>\n",
       "      <td>53</td>\n",
       "      <td>195737887.0</td>\n",
       "      <td>2606</td>\n",
       "      <td>1.370592e+10</td>\n",
       "      <td>5</td>\n",
       "      <td>77352647.0</td>\n",
       "    </tr>\n",
       "    <tr>\n",
       "      <th>39487</th>\n",
       "      <td>Credicompras alkosto</td>\n",
       "      <td>Credicompras alkosto</td>\n",
       "      <td>202504</td>\n",
       "      <td>CICLO 2</td>\n",
       "      <td>20250330</td>\n",
       "      <td>62</td>\n",
       "      <td>229130141.0</td>\n",
       "      <td>2597</td>\n",
       "      <td>1.367252e+10</td>\n",
       "      <td>6</td>\n",
       "      <td>33392254.0</td>\n",
       "    </tr>\n",
       "    <tr>\n",
       "      <th>39488</th>\n",
       "      <td>Credicompras alkosto</td>\n",
       "      <td>Credicompras alkosto</td>\n",
       "      <td>202504</td>\n",
       "      <td>CICLO 2</td>\n",
       "      <td>20250331</td>\n",
       "      <td>84</td>\n",
       "      <td>336479147.0</td>\n",
       "      <td>2575</td>\n",
       "      <td>1.356518e+10</td>\n",
       "      <td>7</td>\n",
       "      <td>107349006.0</td>\n",
       "    </tr>\n",
       "    <tr>\n",
       "      <th>39489</th>\n",
       "      <td>Credicompras alkosto</td>\n",
       "      <td>Credicompras alkosto</td>\n",
       "      <td>202504</td>\n",
       "      <td>CICLO 2</td>\n",
       "      <td>20250401</td>\n",
       "      <td>101</td>\n",
       "      <td>452177868.0</td>\n",
       "      <td>2558</td>\n",
       "      <td>1.344948e+10</td>\n",
       "      <td>8</td>\n",
       "      <td>115698721.0</td>\n",
       "    </tr>\n",
       "  </tbody>\n",
       "</table>\n",
       "</div>"
      ],
      "text/plain": [
       "                     fuente            Producto 2     mes Agru. Ciclo  \\\n",
       "39485  Credicompras alkosto  Credicompras alkosto  202504     CICLO 2   \n",
       "39486  Credicompras alkosto  Credicompras alkosto  202504     CICLO 2   \n",
       "39487  Credicompras alkosto  Credicompras alkosto  202504     CICLO 2   \n",
       "39488  Credicompras alkosto  Credicompras alkosto  202504     CICLO 2   \n",
       "39489  Credicompras alkosto  Credicompras alkosto  202504     CICLO 2   \n",
       "\n",
       "       Fecha Seguimiento  Cuentas Norm   Saldo Norm  Cuentas Pendientes   \\\n",
       "39485           20250328            42  118385240.0                 2617   \n",
       "39486           20250329            53  195737887.0                 2606   \n",
       "39487           20250330            62  229130141.0                 2597   \n",
       "39488           20250331            84  336479147.0                 2575   \n",
       "39489           20250401           101  452177868.0                 2558   \n",
       "\n",
       "       Saldo Pendiente  Momentos  Saldo Norm x Dia  \n",
       "39485     1.378327e+10         4        47446515.0  \n",
       "39486     1.370592e+10         5        77352647.0  \n",
       "39487     1.367252e+10         6        33392254.0  \n",
       "39488     1.356518e+10         7       107349006.0  \n",
       "39489     1.344948e+10         8       115698721.0  "
      ]
     },
     "execution_count": 4,
     "metadata": {},
     "output_type": "execute_result"
    }
   ],
   "source": [
    "data_preventiva= pd.read_csv(r'L:\\00. INFORMES\\BI\\Base_Preventiva_Bodega.csv')\n",
    "data_preventiva.tail()"
   ]
  },
  {
   "cell_type": "code",
   "execution_count": 5,
   "metadata": {},
   "outputs": [],
   "source": [
    "from impala_con import subir_datos_datalake\n",
    "from impala_con import Impala"
   ]
  },
  {
   "cell_type": "code",
   "execution_count": 6,
   "metadata": {},
   "outputs": [],
   "source": [
    "impala = Impala(\"DSN=impalanube\") # Colocar como lo tenga configurado en su máquina"
   ]
  },
  {
   "cell_type": "code",
   "execution_count": 7,
   "metadata": {},
   "outputs": [
    {
     "name": "stdout",
     "output_type": "stream",
     "text": [
      "Corriendo query SQL...\n",
      "Query ejecutado con éxito!\n"
     ]
    }
   ],
   "source": [
    "impala.run_sql_query(\"TRUNCATE TABLE IF EXISTS te_respaldamos.cob1jlu_base_preventiva\")"
   ]
  },
  {
   "cell_type": "code",
   "execution_count": 8,
   "metadata": {},
   "outputs": [
    {
     "name": "stdout",
     "output_type": "stream",
     "text": [
      "\n",
      "Empieza carga de DataFrame hacia la tabla te_respaldamos.cob1jlu_base_preventiva...\n",
      "\n",
      "Se realizarán envíos de 3 lotes de size 13164...\n",
      "\n",
      "39490 registros cargados de 39490...\n",
      "\n",
      "Tiempo tomado para llevar 39490 registros a bodega fue: 0.70 minutos\n",
      "\n",
      "Ejecutando queries COMPUTE, INVALIDATE y REFRESH sobre la tabla...\n",
      "\n",
      "Proceso terminado!\n"
     ]
    }
   ],
   "source": [
    "subir_datos_datalake(\n",
    "    dsn = \"DSN=impalanube\",\n",
    "    csv_path_or_dataframe = data_preventiva,\n",
    "    table_name = \"te_respaldamos.cob1jlu_base_preventiva\",\n",
    "    batch_size = 10000 # se puede obviar, por defecto es 10000\n",
    ")"
   ]
  }
 ],
 "metadata": {
  "kernelspec": {
   "display_name": "Python 3",
   "language": "python",
   "name": "python3"
  },
  "language_info": {
   "codemirror_mode": {
    "name": "ipython",
    "version": 3
   },
   "file_extension": ".py",
   "mimetype": "text/x-python",
   "name": "python",
   "nbconvert_exporter": "python",
   "pygments_lexer": "ipython3",
   "version": "3.11.3"
  }
 },
 "nbformat": 4,
 "nbformat_minor": 2
}
